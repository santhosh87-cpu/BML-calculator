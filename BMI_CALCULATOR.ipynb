{
  "nbformat": 4,
  "nbformat_minor": 0,
  "metadata": {
    "colab": {
      "provenance": []
    },
    "kernelspec": {
      "name": "python3",
      "display_name": "Python 3"
    },
    "language_info": {
      "name": "python"
    }
  },
  "cells": [
    {
      "cell_type": "markdown",
      "source": [
        "# **BMI CALCULATOR**\n"
      ],
      "metadata": {
        "id": "Y_H-M3QAXbHC"
      }
    },
    {
      "cell_type": "code",
      "source": [
        "Name= input(\"Enter your name:\")\n",
        "Age = int(input(\"Entre your age:\"))\n",
        "Gendre= input(\"Entre your gendre :\")\n",
        "Weight= int(input(\"Entre your weight in kg:\"))\n",
        "height= int(input(\"Entre your height in CM:\"))\n",
        "\n",
        "BMI = (Weight * 703) / (height * height)\n",
        "print(BMI)\n",
        "\n",
        "if BMI>0:\n",
        "    if(BMI<18.5):\n",
        "        print(Name +\", you are underwight.\")\n",
        "    elif (BMI<=24.9):\n",
        "        print(Name +\", you are normal weight.\")\n",
        "    elif (BMI<29.9):\n",
        "        print(Name +\", you are overweight.\")\n",
        "    elif (BMI<34.9):\n",
        "        print(Name +\", you are obese.\")\n",
        "    elif (BMI<39.9):\n",
        "        print(Name +\", you are severely obese.\")\n",
        "    else:\n",
        "        print(Name +\", you are morbidly obese.\")\n",
        "else:\n",
        "    print(\"Enter valid input\")"
      ],
      "metadata": {
        "colab": {
          "base_uri": "https://localhost:8080/"
        },
        "id": "DfNgRRRnXziZ",
        "outputId": "81d86d6c-560e-49b1-e2db-24773693312b"
      },
      "execution_count": 24,
      "outputs": [
        {
          "output_type": "stream",
          "name": "stdout",
          "text": [
            "Enter your name:SANTHOSH\n",
            "Entre your age:21\n",
            "Entre your gendre :MALE\n",
            "Entre your weight in kg:65\n",
            "Entre your height in CM:171\n",
            "1.5627030539311242\n",
            "SANTHOSH, you are underwight.\n"
          ]
        }
      ]
    },
    {
      "cell_type": "code",
      "source": [],
      "metadata": {
        "id": "8c496OrWZIlj"
      },
      "execution_count": null,
      "outputs": []
    },
    {
      "cell_type": "code",
      "source": [],
      "metadata": {
        "id": "4xsNiYutavtu"
      },
      "execution_count": null,
      "outputs": []
    },
    {
      "cell_type": "code",
      "source": [
        "#BMI = (weight in pounds x 703) / (height in inches x height in inches)"
      ],
      "metadata": {
        "id": "9fMiabPDaviE"
      },
      "execution_count": null,
      "outputs": []
    },
    {
      "cell_type": "code",
      "source": [
        "Under 18.5\t  Underweight   \tMinimal\n",
        "18.5 - 24.9 \tNormal Weight  \tMinimal\n",
        "25 - 29.9    \tOverweight\t    Increased\n",
        "30 - 34.9    \tObese\tHigh\n",
        "35 - 39.9\t    Severely Obese\tVery High\n",
        "40 and over  \tMorbidly Obese\tExtremely High"
      ],
      "metadata": {
        "colab": {
          "base_uri": "https://localhost:8080/",
          "height": 106
        },
        "id": "wN2-_3UAavPE",
        "outputId": "2fa14833-8fbf-43d1-cc8c-5262b8f7237c"
      },
      "execution_count": 16,
      "outputs": [
        {
          "output_type": "error",
          "ename": "SyntaxError",
          "evalue": "invalid syntax (<ipython-input-16-c3b8548f2ada>, line 1)",
          "traceback": [
            "\u001b[0;36m  File \u001b[0;32m\"<ipython-input-16-c3b8548f2ada>\"\u001b[0;36m, line \u001b[0;32m1\u001b[0m\n\u001b[0;31m    Under 18.5\tUnderweight\tMinimal\u001b[0m\n\u001b[0m          ^\u001b[0m\n\u001b[0;31mSyntaxError\u001b[0m\u001b[0;31m:\u001b[0m invalid syntax\n"
          ]
        }
      ]
    },
    {
      "cell_type": "code",
      "source": [],
      "metadata": {
        "id": "BO-rPM60eqv_"
      },
      "execution_count": null,
      "outputs": []
    }
  ]
}